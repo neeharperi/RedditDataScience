{
 "cells": [
  {
   "cell_type": "markdown",
   "metadata": {},
   "source": [
    "<p><img style=\"display: block; margin-left: auto; margin-right: auto;\" src=\"https://i.imgur.com/7uiZbR2.jpg\" alt=\"\" width=\"450\" height=\"450\" /></p>\n",
    "<h1 style=\"text-align: center;\">Rock The Upvote:</h1>\n",
    "<h2 style=\"text-align: center;\">Predicting the Success of a Reddit Post</h2>\n",
    "<p style=\"text-align: center;\">Neehar Peri, Wilson Orlando</p>\n",
    "<hr />"
   ]
  },
  {
   "cell_type": "markdown",
   "metadata": {},
   "source": [
    "<h2 style=\"text-align: center;\">Introduction</h2>\n",
    "<p style=\"text-align: left;\">Ever heard of Reddit? Maybe you already have; it's the <a href=\"https://www.alexa.com/topsites/countries/US\">6th most visited website in the U.S.</a>&nbsp;If this is your first time hearing about it, Reddit is a \"social news aggregation forum\", which is the official way of saying it gathers content from all over the internet to display in one place. Users submit content to Reddit like links, text posts, and images, and that content gets liked (\"upvoted\") or disliked (\"downvoted\") by other users. Posts are grouped into user-created boards called \"subreddits\" focused on one topic- like <a href=\"https://www.reddit.com/r/aww/\">cute animals</a>, <a href=\"https://www.reddit.com/r/worldnews/\">world news</a>, or <a href=\"https://www.reddit.com/r/gameofthrones/\">Game of Thrones</a>- and the most upvoted posts across all subreddits are shown on the site's <a href=\"reddit.com/r/all\">front page</a>. You can read more about it <a href=\"https://mashable.com/2012/06/06/reddit-for-beginners/\">here</a>.</p>\n",
    "<p>With 330 million users and over 20 thousand daily submissions, it&rsquo;s hard to predict which posts will get popular enough to hit the front page. If your predictions were good enough to craft viral Reddit posts, though, you could get your ideas out to those millions of users in a matter of hours. Many users don&rsquo;t realize that Reddit can be- and is already being- manipulated to spread more than cute cats. <a href=\"https://www.forbes.com/sites/jaymcgregor/2017/02/20/reddit-is-being-manipulated-by-big-financial-services-companies/#109284f94c92\">Large financial service companies use Reddit</a> to boost their online image, and just this month the Reddit team claimed <a href=\"https://time.com/5745917/reddit-uk-trade-documents-russia/\">leaked U.S.-U.K. trade documents posted on their site</a> were part of a large-scale misinformation campaign originating from Russia. On top of getting your own upvotes, understanding what makes a Reddit post popular is critical for your informed online browsing.</p>\n",
    "<p>Given the huge amount of data Reddit generates, it&rsquo;s also an interesting problem for data science: based on existing Reddit posts, can we identify the most important features of a successful post and predict a post&rsquo;s success before it&rsquo;s submitted? In this tutorial, our goal is to download and tidy data from Reddit, perform some exploratory analysis to identify important features, then use machine learning models to predict a post&rsquo;s upvote rating based on those features. For readers unfamiliar with Reddit, we hope our analysis will get you interested in the site and in some popular posts. For more experienced readers, we hope to give you some insight into how your favorite &ldquo;social news aggregation forum&rdquo; works, and show you how to get your own posts to the front page of the internet.</p>"
   ]
  },
  {
   "cell_type": "markdown",
   "metadata": {},
   "source": [
    "<h2 style=\"text-align: center;\">Getting Started with the Data</h2>"
   ]
  },
  {
   "cell_type": "markdown",
   "metadata": {},
   "source": [
    "We use Python 3 and some imported libraries, like [torch](https://pytorch.org/), [pandas](https://pandas.pydata.org/), [matplotlib](https://matplotlib.org/), [scikit-learn](https://scikit-learn.org/stable/), and more."
   ]
  },
  {
   "cell_type": "code",
   "execution_count": 27,
   "metadata": {},
   "outputs": [],
   "source": [
    "from textblob import TextBlob\n",
    "import torch\n",
    "import torch.nn as nn\n",
    "import torch.optim as optim\n",
    "import pandas as pd\n",
    "import matplotlib.pyplot as plt\n",
    "import seaborn as sns\n",
    "from sklearn.linear_model import Lasso, LogisticRegression\n",
    "import sklearn.metrics as metrics\n",
    "from sklearn.model_selection import train_test_split\n",
    "from tqdm import tqdm\n",
    "from pprint import pprint\n",
    "import numpy as np\n",
    "import praw\n",
    "import pdb\n",
    "import operator\n",
    "import warnings\n",
    "warnings.filterwarnings(\"ignore\")"
   ]
  },
  {
   "cell_type": "markdown",
   "metadata": {},
   "source": [
    "<h3>Data Collection</h3>\n",
    "\n",
    "To scrape data from Reddit, we'll be using [PRAW (the Python Reddit API Wrapper)](https://praw.readthedocs.io/en/latest/). For this analysis, we chose to pull data into two datasets:\n",
    "<ol>\n",
    "    <li> Top Posts: The 1000 most upvoted posts in the last year </li>\n",
    "    <li> Controversial Posts: The 1000 most controversial posts in the last year (i.e. closest to 50% upvote ratio) </li>\n",
    "</ol>\n",
    "This gives us a good spread of recent posts that have been wildly successful and unsuccessful."
   ]
  },
  {
   "cell_type": "code",
   "execution_count": 4,
   "metadata": {},
   "outputs": [],
   "source": [
    "# Establish connection using Reddit's API\n",
    "clientID = 'VpVEXRwC5-nrbA'\n",
    "clientSecret = 'XMql3JHOqhq2NatetFMFPkhBaCE'\n",
    "userAgent = 'Reddit WebScraping'\n",
    "reddit = praw.Reddit(client_id=clientID, client_secret=clientSecret, user_agent=userAgent)"
   ]
  },
  {
   "cell_type": "code",
   "execution_count": null,
   "metadata": {},
   "outputs": [],
   "source": [
    "# Retrieve the top (most upvoted) 1k posts in the last year and add them to a Pandas dataframe\n",
    "topPosts = []\n",
    "subReddit = reddit.subreddit('all')\n",
    "for post in tqdm(subReddit.top(time_filter = 'year', limit=1000), total=1000):\n",
    "    topPosts.append([post.title, post.score, post.id, post.subreddit, post.url, post.num_comments, post.selftext, post.created_utc, post.author, post.is_self, post.over_18, post.spoiler, post.upvote_ratio]) \n",
    "topPosts = pd.DataFrame(topPosts,columns=['title', 'score', 'id', 'subreddit', 'url', 'num_comments', 'body', 'created', 'author', 'is_self', 'over_18', 'spoiler', 'upvote_ratio'])\n",
    "topPosts.to_csv(\"top1KPosts.csv\", index=False)\n",
    "\n",
    "# Retrieve the most controversial (most downvoted) 1k posts in the last year and add them to a Pandas dataframe\n",
    "controvertialPosts = []\n",
    "subReddit = reddit.subreddit('all')\n",
    "for post in tqdm(subReddit.controversial(time_filter = 'year', limit=1000), total=1000):\n",
    "    controvertialPosts.append([post.title, post.score, post.id, post.subreddit, post.url, post.num_comments, post.selftext, post.created_utc, post.author, post.is_self, post.over_18, post.spoiler, post.upvote_ratio])\n",
    "controvertialPosts = pd.DataFrame(controvertialPosts,columns=['title', 'score', 'id', 'subreddit', 'url', 'num_comments', 'body', 'created', 'author', 'is_self', 'over_18', 'spoiler', 'upvote_ratio'])\n",
    "controvertialPosts.to_csv(\"controvertial1KPosts.csv\", index=False)"
   ]
  },
  {
   "cell_type": "code",
   "execution_count": 12,
   "metadata": {},
   "outputs": [],
   "source": [
    "top1KPosts = pd.read_csv(\"top1kPosts.csv\")\n",
    "controversial1KPosts = pd.read_csv(\"controversial1kPosts.csv\")"
   ]
  },
  {
   "cell_type": "markdown",
   "metadata": {},
   "source": [
    "To avoid calling the Reddit API thousands of times, we have saved the results of 1000 \"Top\" posts and 1000 \"Controversial\" posts to a Pandas dataframe. For all future analysis, we will be reading and modifying these data frames.\n",
    "\n",
    "Next, let's take a look at some of the subreddits that have broken the top 1000 and controversial 1000 posts:"
   ]
  },
  {
   "cell_type": "code",
   "execution_count": 13,
   "metadata": {},
   "outputs": [
    {
     "data": {
      "text/plain": [
       "array(['pics', 'gaming', 'AskReddit', 'Showerthoughts', 'news', 'memes',\n",
       "       'funny', 'YouFellForItFool', 'aww', 'videos'], dtype=object)"
      ]
     },
     "execution_count": 13,
     "metadata": {},
     "output_type": "execute_result"
    }
   ],
   "source": [
    "#Top 10 List of subreddits that have broken top 1k\n",
    "topSubReddit = top1KPosts.subreddit.unique() \n",
    "topSubReddit[0:10]"
   ]
  },
  {
   "cell_type": "code",
   "execution_count": 14,
   "metadata": {
    "scrolled": false
   },
   "outputs": [
    {
     "data": {
      "text/plain": [
       "array(['motorcycles', 'unpopularopinion', 'IAmA', 'AmItheAsshole',\n",
       "       'TheMonkeysPaw', 'TrueOffMyChest', 'gadgets', 'leagueoflegends',\n",
       "       'DestinyTheGame', 'FortNiteBR'], dtype=object)"
      ]
     },
     "execution_count": 14,
     "metadata": {},
     "output_type": "execute_result"
    }
   ],
   "source": [
    " #Top 10 subreddits that have broken most controversial 1k\n",
    "controversialSubReddits = controversial1KPosts.subreddit.unique()\n",
    "controversialSubReddits[0:10]"
   ]
  },
  {
   "cell_type": "markdown",
   "metadata": {},
   "source": [
    "Our sampling of subreddits in the top 1000 are pretty predictable; [r/pics](https://www.reddit.com/r/pics/), [r/aww](https://www.reddit.com/r/aww/), and [r/AskReddit](https://www.reddit.com/r/AskReddit/) are some of the biggest subreddits on the site (\"r/\" denotes a subreddit's name), with AskReddit hosting over 25 million subscribed users. This would indicate that <b>bigger subreddits are more likely to break the top 1000</b>, so a post's subreddit should be a very important feature for its success.\n",
    "\n",
    "The controversial sample of subreddits shows a few different trends. Of the 74 subreddits that have broken the controversial 1000, many (like [r/unpopularopinion](https://www.reddit.com/r/unpopularopinion/) and [r/TrueOffMyChest](https://www.reddit.com/r/TrueOffMyChest/)), are communities for people to vent <b>intentionally controversial ideas</b> to other people. There's also a sizeable chunk of <b>political</b> subreddits, like [r/Libertarian](https://www.reddit.com/r/Libertarian/) and [r/Conservative](https://www.reddit.com/r/Conservative/), which also host a lot of controversial opinions (as is the nature of partisan politics). Surprisingly, though, the vast majority of controversial subreddits have to do with <b>popular entertainment</b>, like [r/DestinyTheGame](https://www.reddit.com/r/DestinyTheGame/), [r/leagueoflegends](https://www.reddit.com/r/leagueoflegends/), and [r/FortNiteBR](https://www.reddit.com/r/FortNiteBR/). Part of this is sampling bias; there's inherently just a lot of subreddits dedicated to popular entertainment on Reddit, so it makes sense that they'd make up a significant percentage of the controversial dataset. Interestingly, though, many of them reflect legitimate controversies in the past year! [r/gameofthrones](https://www.reddit.com/r/gameofthrones/) is present, after many fans were disappointed with the show's final season, and [r/Blizzard](https://www.reddit.com/r/Blizzard/) makes an appearance after the gaming company punished prominent players for supporting the Hong Kong riots.\n",
    "\n",
    "For our analysis, then, we'd recommend posting to large generic subreddits and avoiding specific potentially-controversial ones, hypothesizing that <b>a post's subreddit is an important feature in its success</b>.\n"
   ]
  },
  {
   "cell_type": "markdown",
   "metadata": {},
   "source": [
    "<h3>Data Preprocessing</h3>\n",
    "\n",
    "Next, we'll have to clean up the data from PRAW to get it into a more usable format. We'll be combining the top and controversial posts into a single Pandas dataframe, adding a field to differentiate between them, and dropping some fields that could not be controlled by a user at the time of post submission (like url and reddit's internal post id)."
   ]
  },
  {
   "cell_type": "code",
   "execution_count": 15,
   "metadata": {},
   "outputs": [
    {
     "data": {
      "text/html": [
       "<div>\n",
       "<style scoped>\n",
       "    .dataframe tbody tr th:only-of-type {\n",
       "        vertical-align: middle;\n",
       "    }\n",
       "\n",
       "    .dataframe tbody tr th {\n",
       "        vertical-align: top;\n",
       "    }\n",
       "\n",
       "    .dataframe thead th {\n",
       "        text-align: right;\n",
       "    }\n",
       "</style>\n",
       "<table border=\"1\" class=\"dataframe\">\n",
       "  <thead>\n",
       "    <tr style=\"text-align: right;\">\n",
       "      <th></th>\n",
       "      <th>title</th>\n",
       "      <th>score</th>\n",
       "      <th>subreddit</th>\n",
       "      <th>num_comments</th>\n",
       "      <th>body</th>\n",
       "      <th>is_self</th>\n",
       "      <th>over_18</th>\n",
       "      <th>spoiler</th>\n",
       "      <th>upvote_ratio</th>\n",
       "      <th>post_type</th>\n",
       "    </tr>\n",
       "  </thead>\n",
       "  <tbody>\n",
       "    <tr>\n",
       "      <th>0</th>\n",
       "      <td>Given that reddit just took a $150 million inv...</td>\n",
       "      <td>228918</td>\n",
       "      <td>pics</td>\n",
       "      <td>6491</td>\n",
       "      <td>NaN</td>\n",
       "      <td>False</td>\n",
       "      <td>False</td>\n",
       "      <td>False</td>\n",
       "      <td>0.94</td>\n",
       "      <td>1.0</td>\n",
       "    </tr>\n",
       "    <tr>\n",
       "      <th>1</th>\n",
       "      <td>I got off the horse by accident right before a...</td>\n",
       "      <td>226498</td>\n",
       "      <td>gaming</td>\n",
       "      <td>2238</td>\n",
       "      <td>NaN</td>\n",
       "      <td>False</td>\n",
       "      <td>False</td>\n",
       "      <td>False</td>\n",
       "      <td>0.97</td>\n",
       "      <td>1.0</td>\n",
       "    </tr>\n",
       "    <tr>\n",
       "      <th>2</th>\n",
       "      <td>Take your time, you got this</td>\n",
       "      <td>224055</td>\n",
       "      <td>gaming</td>\n",
       "      <td>3360</td>\n",
       "      <td>NaN</td>\n",
       "      <td>False</td>\n",
       "      <td>False</td>\n",
       "      <td>False</td>\n",
       "      <td>0.97</td>\n",
       "      <td>1.0</td>\n",
       "    </tr>\n",
       "    <tr>\n",
       "      <th>3</th>\n",
       "      <td>People who haven't pooped in 2019 yet, why are...</td>\n",
       "      <td>221862</td>\n",
       "      <td>AskReddit</td>\n",
       "      <td>8132</td>\n",
       "      <td>NaN</td>\n",
       "      <td>True</td>\n",
       "      <td>False</td>\n",
       "      <td>False</td>\n",
       "      <td>0.91</td>\n",
       "      <td>1.0</td>\n",
       "    </tr>\n",
       "    <tr>\n",
       "      <th>4</th>\n",
       "      <td>Whoever created the tradition of not seeing th...</td>\n",
       "      <td>218614</td>\n",
       "      <td>Showerthoughts</td>\n",
       "      <td>2098</td>\n",
       "      <td>Damn... this got big...</td>\n",
       "      <td>True</td>\n",
       "      <td>False</td>\n",
       "      <td>False</td>\n",
       "      <td>0.96</td>\n",
       "      <td>1.0</td>\n",
       "    </tr>\n",
       "  </tbody>\n",
       "</table>\n",
       "</div>"
      ],
      "text/plain": [
       "                                               title   score       subreddit  \\\n",
       "0  Given that reddit just took a $150 million inv...  228918            pics   \n",
       "1  I got off the horse by accident right before a...  226498          gaming   \n",
       "2                       Take your time, you got this  224055          gaming   \n",
       "3  People who haven't pooped in 2019 yet, why are...  221862       AskReddit   \n",
       "4  Whoever created the tradition of not seeing th...  218614  Showerthoughts   \n",
       "\n",
       "   num_comments                     body  is_self  over_18  spoiler  \\\n",
       "0          6491                      NaN    False    False    False   \n",
       "1          2238                      NaN    False    False    False   \n",
       "2          3360                      NaN    False    False    False   \n",
       "3          8132                      NaN     True    False    False   \n",
       "4          2098  Damn... this got big...     True    False    False   \n",
       "\n",
       "   upvote_ratio  post_type  \n",
       "0          0.94        1.0  \n",
       "1          0.97        1.0  \n",
       "2          0.97        1.0  \n",
       "3          0.91        1.0  \n",
       "4          0.96        1.0  "
      ]
     },
     "execution_count": 15,
     "metadata": {},
     "output_type": "execute_result"
    }
   ],
   "source": [
    "for tableRow in top1KPosts.iterrows():\n",
    "     top1KPosts.at[tableRow[0], \"post_type\"] = 1 #Set topPost as post_type 1\n",
    "\n",
    "for tableRow in controversial1KPosts.iterrows():\n",
    "    controversial1KPosts.at[tableRow[0], \"post_type\"] = 0 #Set controversialPost as post_type 0\n",
    "\n",
    "dataSet = pd.concat([top1KPosts, controversial1KPosts])\n",
    "dataSet = dataSet.reset_index()\n",
    "dataSet = dataSet.drop([\"index\", \"id\", \"url\", \"created\", \"author\"], axis=1) #Drop Features that cannot be controlled by the user\n",
    "dataSet.head()"
   ]
  },
  {
   "cell_type": "markdown",
   "metadata": {},
   "source": [
    "From here, we'll conduct all analysis on this master dataset. Although metrics such as number of comments, post type, and upvote ratio cannot be controlled at the time of submission, we'll be keeping them as potential target metrics for later classification and regression. We still need to perform some data cleaning to make these features useable in machine learning models:"
   ]
  },
  {
   "cell_type": "code",
   "execution_count": 16,
   "metadata": {},
   "outputs": [
    {
     "data": {
      "text/html": [
       "<div>\n",
       "<style scoped>\n",
       "    .dataframe tbody tr th:only-of-type {\n",
       "        vertical-align: middle;\n",
       "    }\n",
       "\n",
       "    .dataframe tbody tr th {\n",
       "        vertical-align: top;\n",
       "    }\n",
       "\n",
       "    .dataframe thead th {\n",
       "        text-align: right;\n",
       "    }\n",
       "</style>\n",
       "<table border=\"1\" class=\"dataframe\">\n",
       "  <thead>\n",
       "    <tr style=\"text-align: right;\">\n",
       "      <th></th>\n",
       "      <th>title</th>\n",
       "      <th>score</th>\n",
       "      <th>subreddit</th>\n",
       "      <th>num_comments</th>\n",
       "      <th>body</th>\n",
       "      <th>upvote_ratio</th>\n",
       "      <th>post_type</th>\n",
       "      <th>len_title</th>\n",
       "      <th>title_question</th>\n",
       "      <th>title_sentiment</th>\n",
       "      <th>title_subjectivity</th>\n",
       "      <th>len_body</th>\n",
       "      <th>is_oc</th>\n",
       "      <th>is_nsfw</th>\n",
       "      <th>is_spoiler</th>\n",
       "    </tr>\n",
       "  </thead>\n",
       "  <tbody>\n",
       "    <tr>\n",
       "      <th>0</th>\n",
       "      <td>Given that reddit just took a $150 million inv...</td>\n",
       "      <td>228918</td>\n",
       "      <td>pics</td>\n",
       "      <td>6491</td>\n",
       "      <td></td>\n",
       "      <td>0.94</td>\n",
       "      <td>1.0</td>\n",
       "      <td>241.0</td>\n",
       "      <td>0.0</td>\n",
       "      <td>0.245455</td>\n",
       "      <td>0.484848</td>\n",
       "      <td>0.0</td>\n",
       "      <td>0.0</td>\n",
       "      <td>0.0</td>\n",
       "      <td>0.0</td>\n",
       "    </tr>\n",
       "    <tr>\n",
       "      <th>1</th>\n",
       "      <td>I got off the horse by accident right before a...</td>\n",
       "      <td>226498</td>\n",
       "      <td>gaming</td>\n",
       "      <td>2238</td>\n",
       "      <td></td>\n",
       "      <td>0.97</td>\n",
       "      <td>1.0</td>\n",
       "      <td>67.0</td>\n",
       "      <td>0.0</td>\n",
       "      <td>0.028571</td>\n",
       "      <td>0.311905</td>\n",
       "      <td>0.0</td>\n",
       "      <td>0.0</td>\n",
       "      <td>0.0</td>\n",
       "      <td>0.0</td>\n",
       "    </tr>\n",
       "    <tr>\n",
       "      <th>2</th>\n",
       "      <td>Take your time, you got this</td>\n",
       "      <td>224055</td>\n",
       "      <td>gaming</td>\n",
       "      <td>3360</td>\n",
       "      <td></td>\n",
       "      <td>0.97</td>\n",
       "      <td>1.0</td>\n",
       "      <td>28.0</td>\n",
       "      <td>0.0</td>\n",
       "      <td>0.000000</td>\n",
       "      <td>0.000000</td>\n",
       "      <td>0.0</td>\n",
       "      <td>0.0</td>\n",
       "      <td>0.0</td>\n",
       "      <td>0.0</td>\n",
       "    </tr>\n",
       "    <tr>\n",
       "      <th>3</th>\n",
       "      <td>People who haven't pooped in 2019 yet, why are...</td>\n",
       "      <td>221862</td>\n",
       "      <td>AskReddit</td>\n",
       "      <td>8132</td>\n",
       "      <td></td>\n",
       "      <td>0.91</td>\n",
       "      <td>1.0</td>\n",
       "      <td>87.0</td>\n",
       "      <td>1.0</td>\n",
       "      <td>-0.100000</td>\n",
       "      <td>0.433333</td>\n",
       "      <td>0.0</td>\n",
       "      <td>1.0</td>\n",
       "      <td>0.0</td>\n",
       "      <td>0.0</td>\n",
       "    </tr>\n",
       "    <tr>\n",
       "      <th>4</th>\n",
       "      <td>Whoever created the tradition of not seeing th...</td>\n",
       "      <td>218614</td>\n",
       "      <td>Showerthoughts</td>\n",
       "      <td>2098</td>\n",
       "      <td>Damn... this got big...</td>\n",
       "      <td>0.96</td>\n",
       "      <td>1.0</td>\n",
       "      <td>189.0</td>\n",
       "      <td>0.0</td>\n",
       "      <td>0.000000</td>\n",
       "      <td>0.500000</td>\n",
       "      <td>23.0</td>\n",
       "      <td>1.0</td>\n",
       "      <td>0.0</td>\n",
       "      <td>0.0</td>\n",
       "    </tr>\n",
       "  </tbody>\n",
       "</table>\n",
       "</div>"
      ],
      "text/plain": [
       "                                               title   score       subreddit  \\\n",
       "0  Given that reddit just took a $150 million inv...  228918            pics   \n",
       "1  I got off the horse by accident right before a...  226498          gaming   \n",
       "2                       Take your time, you got this  224055          gaming   \n",
       "3  People who haven't pooped in 2019 yet, why are...  221862       AskReddit   \n",
       "4  Whoever created the tradition of not seeing th...  218614  Showerthoughts   \n",
       "\n",
       "   num_comments                     body  upvote_ratio  post_type  len_title  \\\n",
       "0          6491                                   0.94        1.0      241.0   \n",
       "1          2238                                   0.97        1.0       67.0   \n",
       "2          3360                                   0.97        1.0       28.0   \n",
       "3          8132                                   0.91        1.0       87.0   \n",
       "4          2098  Damn... this got big...          0.96        1.0      189.0   \n",
       "\n",
       "   title_question  title_sentiment  title_subjectivity  len_body  is_oc  \\\n",
       "0             0.0         0.245455            0.484848       0.0    0.0   \n",
       "1             0.0         0.028571            0.311905       0.0    0.0   \n",
       "2             0.0         0.000000            0.000000       0.0    0.0   \n",
       "3             1.0        -0.100000            0.433333       0.0    1.0   \n",
       "4             0.0         0.000000            0.500000      23.0    1.0   \n",
       "\n",
       "   is_nsfw  is_spoiler  \n",
       "0      0.0         0.0  \n",
       "1      0.0         0.0  \n",
       "2      0.0         0.0  \n",
       "3      0.0         0.0  \n",
       "4      0.0         0.0  "
      ]
     },
     "execution_count": 16,
     "metadata": {},
     "output_type": "execute_result"
    }
   ],
   "source": [
    "uniqueSubReddits = {\"subReddit\" : []} #Get unique subReddits.\n",
    "\n",
    "for tableRow in dataSet.iterrows(): #Iterate through all rows in data set.\n",
    "    title = tableRow[1][\"title\"]\n",
    "    subReddit = tableRow[1][\"subreddit\"]\n",
    "    body = tableRow[1][\"body\"]\n",
    "\n",
    "    originalContent = tableRow[1][\"is_self\"]\n",
    "    nsfw = tableRow[1][\"over_18\"]\n",
    "    spoiler = tableRow[1][\"spoiler\"]\n",
    "\n",
    "    titleBlob = TextBlob(title)\n",
    "\n",
    "    lenTitle = len(title)\n",
    "    titleSentiment = titleBlob.sentiment.polarity #Sentiment score from [-1, 1] -1 -> Negative, 1-> Positive\n",
    "    titleSubjectivity = titleBlob.sentiment.subjectivity #Opinion score from [0, 1] 0 -> Factual, 1 -> Opinion\n",
    "    titleQuestion = 1 if \"?\" in title else 0 #Is the title a question?\n",
    "    \n",
    "    if subReddit not in uniqueSubReddits[\"subReddit\"]:\n",
    "        uniqueSubReddits[\"subReddit\"].append(subReddit)\n",
    "\n",
    "    lenBody = 0\n",
    "    try:\n",
    "        if np.isnan(body): #Setting empty body elements to empty strings to homogenize the data type within the column\n",
    "            body = \"\"\n",
    "            lenBody = 0\n",
    "    except: # Body is not NAN (Throws Exception)\n",
    "        lenBody = len(body)\n",
    "\n",
    "    #Set cleaned values and additional features\n",
    "    dataSet.at[tableRow[0], \"len_title\"] = lenTitle\n",
    "    dataSet.at[tableRow[0], \"title_question\"] = titleQuestion\n",
    "    dataSet.at[tableRow[0], \"title_sentiment\"] = titleSentiment\n",
    "    dataSet.at[tableRow[0], \"title_subjectivity\"] = titleSubjectivity\n",
    "    dataSet.at[tableRow[0], \"body\"] = body\n",
    "    dataSet.at[tableRow[0], \"len_body\"] = lenBody\n",
    "    \n",
    "    #Convert True -> 1 and False -> 0\n",
    "    dataSet.at[tableRow[0], \"is_oc\"] = 1 if originalContent else 0\n",
    "    dataSet.at[tableRow[0], \"is_nsfw\"] = 1 if nsfw else 0\n",
    "    dataSet.at[tableRow[0], \"is_spoiler\"] = 1 if spoiler else 0\n",
    "\n",
    "dataSet = dataSet.drop([\"is_self\", \"over_18\", \"spoiler\",], axis=1)\n",
    "subRedditLookUp = pd.DataFrame(uniqueSubReddits) #Create table to iterate through all sub-reddits\n",
    "subRedditOneHotEncoding = pd.get_dummies(subRedditLookUp) #One hot encoding of categorical feature for input into model\n",
    "dataSet.head()"
   ]
  },
  {
   "cell_type": "markdown",
   "metadata": {},
   "source": [
    "The [Reddit API](https://www.reddit.com/dev/api/) makes data cleaning fairly straightforward. There are very few missing values, and all elements in the table are uniformly formatted, making it easier to specify rules to clean them. In addition to the features we are given through the API, we decided to calcualte a few other metrics that might be useful in determining the quality of a post. Specifically, we also look at the sentiment of the tilte, the objectivity of the title, length of the title, and length of the body. For the sake of simplicity, we do not consider the raw text data in a post to avoid dealing with links, subreddit specific acronyms and internet slang in general. Using these hand-crafted features, we will attempt to both regress the upvote ratio, and classify whether a post is considered a top post or a controversial post. Note that we choose to regress the upvote ratio rather than the total score because the score contains a very large range of values, making it difficult to accurately regress the values. \n",
    "\n",
    "Now that our cleaning process is complete, it may help to define exactly what each of our features represents:\n",
    "<ul>\n",
    "    <li><b>title</b>: The title of the post</li>\n",
    "    <li><b>score</b>: The raw number of upvotes that this post received</li>\n",
    "    <li><b>subreddit</b>: The subreddit this post was made on</li>\n",
    "    <li><b>num_comments</b>: The number of comments made on this post</li>\n",
    "    <li><b>body</b>: The text written in the post's body, if any</li>\n",
    "    <li><b>upvote_ratio</b>: The percentage of upvotes to total votes (upvotes + downvotes) on the post.</li>\n",
    "    <li><b>post_type</b>: Whether this post came from our top (1) or controversial (0) dataset.</li>\n",
    "    <li><b>len_title</b>: The number of characters in the post's title</li>\n",
    "    <li><b>title_question</b>: Whether or not the post's title contains the '?' character.</li>\n",
    "    <li><b>title_sentiment</b> and <b>title_subjectivity</b>: Sentiment and subjectivity ratings of the title, as given by TextBlob (https://textblob.readthedocs.io/en/dev/quickstart.html#sentiment-analysis).</li>\n",
    "    <li><b>len_body</b>: Number of characters in the post's body text</li>\n",
    "    <li><b>is_oc</b>: 1 if the post is an original text post, 0 otherwise (i.e. it links to an external website with no body text)</li>\n",
    "    <li><b>is_nsfw</b>: 1 if the post is \"nsfw\" (inappropriate for some audiences), 0 otherwise</li>\n",
    "    <li><b>is_spoiler</b>: 1 if the post is tagged as a spoiler, 0 otherwise</li>\n",
    "</ul>"
   ]
  },
  {
   "cell_type": "markdown",
   "metadata": {},
   "source": [
    "<h2 style=\"text-align: center;\">Exploratory Data Analysis</h2>\n",
    "\n",
    "Now that our data has been assembled, we'd like to take a closer look at the kinds of subreddits in each category. If you're making a post, what kind of subreddit should you post on to ensure its success?\n",
    "\n",
    "To answer this question, let's take a look at the subreddits that most frequently broke the top 1000 posts in the last year. The following plot shows the subreddits which had at least 10 posts in the top 1000 in the last year:"
   ]
  },
  {
   "cell_type": "code",
   "execution_count": 78,
   "metadata": {},
   "outputs": [
    {
     "data": {
      "image/png": "[encoded data removed]",
      "text/plain": [
       "<Figure size 432x288 with 1 Axes>"
      ]
     },
     "metadata": {
      "needs_background": "light"
     },
     "output_type": "display_data"
    }
   ],
   "source": [
    "# Plot subreddits that most frequently broke top 1000\n",
    "subs = {}\n",
    "for tableRow in dataSet.iterrows():\n",
    "    # Tally how many times each subreddit appears in dataset\n",
    "    if (tableRow[1][\"post_type\"] == 1): # Filter only top posts\n",
    "        subreddit = tableRow[1][\"subreddit\"]\n",
    "        if subreddit in subs:\n",
    "            subs[subreddit] = subs[subreddit] + 1\n",
    "        else:\n",
    "            subs[subreddit] = 1\n",
    "top_subs = subs\n",
    "        \n",
    "# Filter out subs that broke top 1000 less than 10 times\n",
    "consistent_subs = {}\n",
    "for sub in subs:\n",
    "    if subs[sub] >= 10:\n",
    "        consistent_subs[sub] = subs[sub]\n",
    "        \n",
    "# Create bar chart\n",
    "plt.bar(range(len(consistent_subs)), list(consistent_subs.values()), align='center')\n",
    "plt.xticks(range(len(consistent_subs)), list(consistent_subs.keys()), rotation='vertical')\n",
    "plt.title(\"Most Frequent Subreddits in Top 1000\")\n",
    "plt.ylabel(\"Number of Posts\")\n",
    "plt.xlabel(\"Subreddit Name\")\n",
    "plt.show()"
   ]
  },
  {
   "cell_type": "markdown",
   "metadata": {},
   "source": [
    "As expected, all of these are large, popular subreddits. All of them (except [r/Showerthoughts](https://www.reddit.com/r/Showerthoughts)) primarily post links to external sites, like images, gifs, or videos. More notably, all of them have broad, generic themes, implying our previous hypothesis that more specific subreddits were more controversial had some merit. Next, then, let's plot the subreddits that broke the most controversial 1000 at least 10 times:"
   ]
  },
  {
   "cell_type": "code",
   "execution_count": 79,
   "metadata": {},
   "outputs": [
    {
     "data": {
      "image/png": "[encoded data removed]",
      "text/plain": [
       "<Figure size 432x288 with 1 Axes>"
      ]
     },
     "metadata": {
      "needs_background": "light"
     },
     "output_type": "display_data"
    }
   ],
   "source": [
    "# Plot subreddits that most frequently broke controversial 1000\n",
    "subs = {}\n",
    "for tableRow in dataSet.iterrows():\n",
    "    # Tally how many times each subreddit appears in dataset\n",
    "    if (tableRow[1][\"post_type\"] == 0): # Filter only controversial posts\n",
    "        subreddit = tableRow[1][\"subreddit\"]\n",
    "        if subreddit in subs:\n",
    "            subs[subreddit] = subs[subreddit] + 1\n",
    "        else:\n",
    "            subs[subreddit] = 1\n",
    "cont_subs = subs\n",
    "\n",
    "# Filter out subs that broke controversial 1000 less than 10 times\n",
    "consistent_subs = {}\n",
    "for sub in subs:\n",
    "    if subs[sub] >= 10:\n",
    "        consistent_subs[sub] = subs[sub]\n",
    "        \n",
    "# Create bar chart\n",
    "plt.bar(range(len(consistent_subs)), list(consistent_subs.values()), align='center')\n",
    "plt.xticks(range(len(consistent_subs)), list(consistent_subs.keys()), rotation='vertical')\n",
    "plt.title(\"Most Frequent Subreddits in Controversial 1000\")\n",
    "plt.ylabel(\"Number of Posts\")\n",
    "plt.xlabel(\"Subreddit Name\")\n",
    "plt.show()"
   ]
  },
  {
   "cell_type": "markdown",
   "metadata": {},
   "source": [
    "As expected, there's a heavy presence of political subreddits like [r/Sino](https://www.reddit.com/r/Sino), [r/politics](https://www.reddit.com/r/politics), [r/Conservative](https://www.reddit.com/r/Conservative), and [r/Libertarian](https://www.reddit.com/r/Libertarian), as well as a popular entertainment subreddit ([r/leagueoflegends](https://www.reddit.com/r/leagueoflegends)). Unfortunately, it looks like there's some overlap with our top 1000 subreddits; [r/IAmA](https://www.reddit.com/r/IAmA) and [r/videos](https://www.reddit.com/r/videos) are popular subreddits, so subscriber count may be a poor predictor. As a follow-up, let's try this: what percentage of subreddits appear in either the top 1000 or the controversial 1000, but not both?"
   ]
  },
  {
   "cell_type": "code",
   "execution_count": 55,
   "metadata": {},
   "outputs": [
    {
     "data": {
      "text/plain": [
       "0.9246376811594202"
      ]
     },
     "execution_count": 55,
     "metadata": {},
     "output_type": "execute_result"
    }
   ],
   "source": [
    "# Count how many subreddits appear in either top or controversial, not both\n",
    "unique_subs = {}\n",
    "subs_count = len(top_subs)\n",
    "\n",
    "for key in top_subs:\n",
    "    if key not in cont_subs:\n",
    "        unique_subs[key] = top_subs[key]\n",
    "        \n",
    "\n",
    "for key in cont_subs:\n",
    "    if key not in top_subs:\n",
    "        subs_count = subs_count + 1\n",
    "        unique_subs[key] = cont_subs[key]\n",
    "\n",
    "len(unique_subs)/subs_count"
   ]
  },
  {
   "cell_type": "markdown",
   "metadata": {},
   "source": [
    "Aha! This is good; 92% of our subreddits are unique to either the top or controversial lists, so only 8% of subreddits appear on both. Even though subscriber count isn't a good metric, then, it looks like subreddit still is! We'll expect our machine learning models to count subreddit as an important feature, and they should perform decently well."
   ]
  },
  {
   "cell_type": "markdown",
   "metadata": {},
   "source": [
    "<h2 style=\"text-align: center;\">Hot or Not?</h2>\n",
    "\n",
    "From here, we'd like to put our hypotheses to the test. Are our features good enough to predict a post's success at the time of submission?\n",
    "\n",
    "<h3>Linear Regression</h3>\n",
    "First, we're going to shoot the moon; let's try predicting the exact upvote ratio that a post will achieve based on its initial conditions. This is a regression problem, so let's try fitting our data to a linear regression model with \"upvote_ratio\" as our labels."
   ]
  },
  {
   "cell_type": "code",
   "execution_count": 160,
   "metadata": {},
   "outputs": [],
   "source": [
    "inputRegressionData = []\n",
    "outputRegressionData = []\n",
    "\n",
    "#Creating examples with all features and the corresponding label\n",
    "for tableRow in dataSet.iterrows():\n",
    "    subReddit = tableRow[1][\"subreddit\"]\n",
    "    SR_oneHotEncoding = subRedditOneHotEncoding[\"subReddit_\" + subReddit].to_list()\n",
    "    originalContent = tableRow[1][\"is_oc\"]\n",
    "    nsfw = tableRow[1][\"is_nsfw\"]\n",
    "    spoiler = tableRow[1][\"is_spoiler\"]\n",
    "    lenTitle = tableRow[1][\"len_title\"]\n",
    "    titleQuestion = tableRow[1][\"title_question\"]\n",
    "    titleSentiment = tableRow[1][\"title_sentiment\"]\n",
    "    titleSubjectivity = tableRow[1][\"title_subjectivity\"]\n",
    "    lenBody = tableRow[1][\"len_body\"]\n",
    "    ratio = tableRow[1][\"upvote_ratio\"]\n",
    "\n",
    "    inputRegressionData.append(SR_oneHotEncoding + [titleQuestion, lenTitle, titleSentiment, titleSubjectivity, lenBody, originalContent, nsfw, spoiler])\n",
    "    outputRegressionData.append([ratio])"
   ]
  },
  {
   "cell_type": "markdown",
   "metadata": {},
   "source": [
    "We use a [Lasso model](https://scikit-learn.org/stable/modules/generated/sklearn.linear_model.Lasso.html#sklearn.linear_model.Lasso) to build a linear model of the data since the traditional least squares method does not work well on sparse data."
   ]
  },
  {
   "cell_type": "code",
   "execution_count": 161,
   "metadata": {},
   "outputs": [
    {
     "data": {
      "text/html": [
       "<div>\n",
       "<style scoped>\n",
       "    .dataframe tbody tr th:only-of-type {\n",
       "        vertical-align: middle;\n",
       "    }\n",
       "\n",
       "    .dataframe tbody tr th {\n",
       "        vertical-align: top;\n",
       "    }\n",
       "\n",
       "    .dataframe thead th {\n",
       "        text-align: right;\n",
       "    }\n",
       "</style>\n",
       "<table border=\"1\" class=\"dataframe\">\n",
       "  <thead>\n",
       "    <tr style=\"text-align: right;\">\n",
       "      <th></th>\n",
       "      <th>Example</th>\n",
       "      <th>True Ratio</th>\n",
       "      <th>Predicted Ratio</th>\n",
       "      <th>Residual</th>\n",
       "    </tr>\n",
       "  </thead>\n",
       "  <tbody>\n",
       "    <tr>\n",
       "      <th>0</th>\n",
       "      <td>0</td>\n",
       "      <td>0.50</td>\n",
       "      <td>0.760761</td>\n",
       "      <td>-0.260761</td>\n",
       "    </tr>\n",
       "    <tr>\n",
       "      <th>1</th>\n",
       "      <td>1</td>\n",
       "      <td>0.51</td>\n",
       "      <td>0.668199</td>\n",
       "      <td>-0.158199</td>\n",
       "    </tr>\n",
       "    <tr>\n",
       "      <th>2</th>\n",
       "      <td>2</td>\n",
       "      <td>0.50</td>\n",
       "      <td>0.703810</td>\n",
       "      <td>-0.203810</td>\n",
       "    </tr>\n",
       "    <tr>\n",
       "      <th>3</th>\n",
       "      <td>3</td>\n",
       "      <td>0.47</td>\n",
       "      <td>0.760761</td>\n",
       "      <td>-0.290761</td>\n",
       "    </tr>\n",
       "    <tr>\n",
       "      <th>4</th>\n",
       "      <td>4</td>\n",
       "      <td>0.91</td>\n",
       "      <td>0.760761</td>\n",
       "      <td>0.149239</td>\n",
       "    </tr>\n",
       "  </tbody>\n",
       "</table>\n",
       "</div>"
      ],
      "text/plain": [
       "   Example  True Ratio  Predicted Ratio  Residual\n",
       "0        0        0.50         0.760761 -0.260761\n",
       "1        1        0.51         0.668199 -0.158199\n",
       "2        2        0.50         0.703810 -0.203810\n",
       "3        3        0.47         0.760761 -0.290761\n",
       "4        4        0.91         0.760761  0.149239"
      ]
     },
     "execution_count": 161,
     "metadata": {},
     "output_type": "execute_result"
    }
   ],
   "source": [
    "trainInput, testInput, trainOutput, testOutput = train_test_split(inputRegressionData, outputRegressionData, test_size=0.1) #Split data\n",
    "ratioRegression = Lasso().fit(np.array(trainInput), np.array(trainOutput)) # Works better with sparse data\n",
    "predictedOutput = ratioRegression.predict(np.array(testInput)) #Test the fitted model against unseen data\n",
    "\n",
    "modelPerformance = []\n",
    "\n",
    "testOutput = [i[0] for i in testOutput]\n",
    "predictedOutput = predictedOutput.tolist()\n",
    "for i, output in enumerate(zip(testOutput, predictedOutput)):\n",
    "    target, prediction = output\n",
    "    modelPerformance.append({\"Example\" : i, \"True Ratio\" : target , \"Predicted Ratio\" : prediction, \"Residual\" : target - prediction})\n",
    "    \n",
    "modelPerformance = pd.DataFrame(modelPerformance)\n",
    "MSE = metrics.mean_squared_error(testOutput, predictedOutput) #How close are the predictions to the actual values?\n",
    "averageResidual = np.mean(modelPerformance[\"Residual\"]) #Gives an idea if the model is consistently under predicting or overpredicting, indicating a poor fit\n",
    "\n",
    "modelPerformance.head()"
   ]
  },
  {
   "cell_type": "code",
   "execution_count": 162,
   "metadata": {},
   "outputs": [
    {
     "name": "stdout",
     "output_type": "stream",
     "text": [
      "Mean Squared Error: 0.042469174299435246\n",
      "Average Residual: -0.04101170171391546\n"
     ]
    }
   ],
   "source": [
    "print(\"Mean Squared Error: \" + str(MSE))\n",
    "print(\"Average Residual: \" + str(averageResidual))"
   ]
  },
  {
   "cell_type": "markdown",
   "metadata": {},
   "source": [
    "Directly regressing the ratio is extremely difficult since almost all ratios on reddit are between 0.5 and 1. In general, the linear model is able to minimize the loss function by predicting around 0.75 for each example. So, it looks like our data isn't fit well by a standard linear regression.\n",
    "\n",
    "Given that this regression model performed badly, we'd like to pursue two different solutions:\n",
    "<ol>\n",
    "    <li>What if we made the problem easier by turning it into a classification problem?</li>\n",
    "    <li>What if a more complex regression model, like a neural network, would perform better?</li>\n",
    "</ol>\n",
    "\n",
    "<h3>Logistic Regression</h3>\n",
    "Let's tackle the classification problem first. If we tried to categorize a post as either \"top\" or \"controversial\", instead of trying to regress its exact upvote ratio, we may see more success."
   ]
  },
  {
   "cell_type": "code",
   "execution_count": 163,
   "metadata": {},
   "outputs": [],
   "source": [
    "inputClassificationData = []\n",
    "outputClassificationData = []\n",
    "\n",
    "for tableRow in dataSet.iterrows():\n",
    "    subReddit = tableRow[1][\"subreddit\"]\n",
    "    SR_oneHotEncoding = subRedditOneHotEncoding[\"subReddit_\" + subReddit].to_list()\n",
    "    originalContent = tableRow[1][\"is_oc\"]\n",
    "    nsfw = tableRow[1][\"is_nsfw\"]\n",
    "    spoiler = tableRow[1][\"is_spoiler\"]\n",
    "    titleQuestion = tableRow[1][\"title_question\"]\n",
    "    lenTitle = tableRow[1][\"len_title\"]\n",
    "    titleSentiment = tableRow[1][\"title_sentiment\"]\n",
    "    titleSubjectivity = tableRow[1][\"title_subjectivity\"]\n",
    "    lenBody = tableRow[1][\"len_body\"]\n",
    "    post_type = tableRow[1][\"post_type\"]\n",
    "\n",
    "    inputClassificationData.append(SR_oneHotEncoding + [titleQuestion, lenTitle, titleSentiment, titleSubjectivity, lenBody, originalContent, nsfw, spoiler])\n",
    "    outputClassificationData.append([post_type])"
   ]
  },
  {
   "cell_type": "code",
   "execution_count": 164,
   "metadata": {},
   "outputs": [
    {
     "data": {
      "text/html": [
       "<div>\n",
       "<style scoped>\n",
       "    .dataframe tbody tr th:only-of-type {\n",
       "        vertical-align: middle;\n",
       "    }\n",
       "\n",
       "    .dataframe tbody tr th {\n",
       "        vertical-align: top;\n",
       "    }\n",
       "\n",
       "    .dataframe thead th {\n",
       "        text-align: right;\n",
       "    }\n",
       "</style>\n",
       "<table border=\"1\" class=\"dataframe\">\n",
       "  <thead>\n",
       "    <tr style=\"text-align: right;\">\n",
       "      <th></th>\n",
       "      <th>Example</th>\n",
       "      <th>True Class</th>\n",
       "      <th>Predicted Class</th>\n",
       "    </tr>\n",
       "  </thead>\n",
       "  <tbody>\n",
       "    <tr>\n",
       "      <th>0</th>\n",
       "      <td>0</td>\n",
       "      <td>0.0</td>\n",
       "      <td>0.0</td>\n",
       "    </tr>\n",
       "    <tr>\n",
       "      <th>1</th>\n",
       "      <td>1</td>\n",
       "      <td>1.0</td>\n",
       "      <td>1.0</td>\n",
       "    </tr>\n",
       "    <tr>\n",
       "      <th>2</th>\n",
       "      <td>2</td>\n",
       "      <td>1.0</td>\n",
       "      <td>1.0</td>\n",
       "    </tr>\n",
       "    <tr>\n",
       "      <th>3</th>\n",
       "      <td>3</td>\n",
       "      <td>1.0</td>\n",
       "      <td>1.0</td>\n",
       "    </tr>\n",
       "    <tr>\n",
       "      <th>4</th>\n",
       "      <td>4</td>\n",
       "      <td>1.0</td>\n",
       "      <td>1.0</td>\n",
       "    </tr>\n",
       "  </tbody>\n",
       "</table>\n",
       "</div>"
      ],
      "text/plain": [
       "   Example  True Class  Predicted Class\n",
       "0        0         0.0              0.0\n",
       "1        1         1.0              1.0\n",
       "2        2         1.0              1.0\n",
       "3        3         1.0              1.0\n",
       "4        4         1.0              1.0"
      ]
     },
     "execution_count": 164,
     "metadata": {},
     "output_type": "execute_result"
    }
   ],
   "source": [
    "trainInput, testInput, trainOutput, testOutput = train_test_split(inputClassificationData, outputClassificationData, test_size=0.1)\n",
    "ratioRegression = LogisticRegression().fit(np.array(trainInput), np.array(trainOutput)) #Binary Classification task\n",
    "predictedOutput = ratioRegression.predict(np.array(testInput)) # Test model on unseen data\n",
    "modelPerformance = []\n",
    "\n",
    "testOutput = [i[0] for i in testOutput]\n",
    "predictedOutput = predictedOutput.tolist()\n",
    "\n",
    "for i, output in enumerate(zip(testOutput, predictedOutput)):\n",
    "    target, prediction = output\n",
    "    modelPerformance.append({\"Example\" : i, \"True Class\" : target , \"Predicted Class\" : prediction})\n",
    "    \n",
    "modelPerformance = pd.DataFrame(modelPerformance)\n",
    "modelPerformance.head()"
   ]
  },
  {
   "cell_type": "code",
   "execution_count": 165,
   "metadata": {},
   "outputs": [
    {
     "name": "stdout",
     "output_type": "stream",
     "text": [
      "Accuracy: 0.9325842696629213\n"
     ]
    }
   ],
   "source": [
    "Accuracy = metrics.accuracy_score(testOutput, predictedOutput)\n",
    "print(\"Accuracy: \" + str(Accuracy))"
   ]
  },
  {
   "cell_type": "markdown",
   "metadata": {},
   "source": [
    "Our [logistic regression model](https://scikit-learn.org/stable/modules/generated/sklearn.linear_model.LogisticRegression.html) performs quite well on the limited data set. Intuitively, it makes sense that a model will perform better at classifying items into two buckets, rather than regressing a continuous variable.\n",
    "\n",
    "<h3>Neural Network Regression</h3>\n",
    "Now that we have a working logistic model, let's revisit our regression model from earlier. Can we improve it? Since linear regression seems to lack the required horsepower, let's go a little overboard and try to use a fully connected neural network. PyTorch (https://pytorch.org/) is great for building neural networks and training deep learning models."
   ]
  },
  {
   "cell_type": "code",
   "execution_count": 169,
   "metadata": {},
   "outputs": [],
   "source": [
    "trainInput, testInput, trainOutput, testOutput = train_test_split(inputRegressionData, outputRegressionData, test_size=0.1)\n",
    "testOutput = [i[0] for i in testOutput]\n",
    "\n",
    "class PredictRedditPost(nn.Module):\n",
    "    def __init__(self):\n",
    "        super(PredictRedditPost, self).__init__()\n",
    "        self.linearClassifier = nn.Sequential(nn.Linear(353, 64), nn.Dropout(0.5), nn.ReLU(), \n",
    "                                              nn.Linear(64, 16), nn.ReLU(),\n",
    "                                              nn.Linear(16, 1))\n",
    "        #Linear fully connected neural network with Dropout regularization to prevent overfitting and ReLU activations for added non-linearity\n",
    "    def forward(self, featureVector):\n",
    "        return self.linearClassifier(featureVector)"
   ]
  },
  {
   "cell_type": "code",
   "execution_count": 170,
   "metadata": {},
   "outputs": [
    {
     "name": "stdout",
     "output_type": "stream",
     "text": [
      "Epoch 1 Loss: 6.891266821341723\n",
      "Epoch 1 MSE: 2.028491573033708\n",
      "\n",
      "Epoch 2 Loss: 0.4459851436810692\n",
      "Epoch 2 MSE: 0.5827612359550562\n",
      "\n",
      "Epoch 3 Loss: 0.10510524660981743\n",
      "Epoch 3 MSE: 0.5935477528089887\n",
      "\n",
      "Epoch 4 Loss: 0.04240793587532868\n",
      "Epoch 4 MSE: 0.5825365168539326\n",
      "\n",
      "Epoch 5 Loss: 0.025229115795357148\n",
      "Epoch 5 MSE: 0.5827612359550562\n",
      "\n",
      "Epoch 6 Loss: 0.028271939921202402\n",
      "Epoch 6 MSE: 0.5825365168539326\n",
      "\n",
      "Epoch 7 Loss: 0.029178444095596577\n",
      "Epoch 7 MSE: 0.5825365168539326\n",
      "\n",
      "Epoch 8 Loss: 0.027159262475763137\n",
      "Epoch 8 MSE: 0.5825365168539326\n",
      "\n",
      "Epoch 9 Loss: 0.02275792101252242\n",
      "Epoch 9 MSE: 0.5825365168539326\n",
      "\n",
      "Epoch 10 Loss: 0.02188337033990069\n",
      "Epoch 10 MSE: 0.5825365168539326\n",
      "\n"
     ]
    }
   ],
   "source": [
    "LR = 1e-3 #Learning Rate\n",
    "WEIGHTDECAY = 0.0005 #L2 Penalty which forces smaller weights and simpler models\n",
    "EPOCH = 10 #Number of iterations through entire dataset\n",
    "\n",
    "device = torch.device(\"cuda:0\" if torch.cuda.is_available() else \"cpu\") #Train on GPU, because training on CPUs is for normies\n",
    "model = PredictRedditPost()\n",
    "model.to(device)\n",
    "optimizer = optim.Adam(model.parameters(), lr=LR, weight_decay=WEIGHTDECAY) #Gradient descent, of the Adam variety. Less fussy than SGD\n",
    "MSE = nn.MSELoss() #Loss function minimizes mean squared error\n",
    "\n",
    "TestingMSE = []\n",
    "TrainingLoss = []\n",
    "for STEP in range(1, EPOCH + 1):\n",
    "    epochLoss = 0\n",
    "    model.train() #Turn on Dropout\n",
    "    for batchCount, data in enumerate(zip(trainInput, trainOutput)):\n",
    "        handCraftedFeatures, ratio = data\n",
    "\n",
    "        handCraftedFeatures = torch.tensor(handCraftedFeatures) #Format input to play nice with PyTorch\n",
    "        ratio = torch.tensor(ratio)\n",
    "\n",
    "        handCraftedFeatures = handCraftedFeatures.to(device) #Send data to GPU\n",
    "        ratio = ratio.to(device)\n",
    "\n",
    "        predictedRatio = model(handCraftedFeatures) #Generate predictions\n",
    "\n",
    "        optimizer.zero_grad()\n",
    "        Loss = MSE(predictedRatio, ratio)\n",
    "        epochLoss = epochLoss + Loss.item()\n",
    "\n",
    "        Loss.backward() #Backpropagate loss through all layers of NN\n",
    "        optimizer.step()\n",
    "\n",
    "    print(\"Epoch \" + str(STEP) +\" Loss: \" + str(epochLoss / batchCount))\n",
    "    TrainingLoss.append(epochLoss / batchCount)\n",
    "    \n",
    "    model.eval() #Turn off Dropout\n",
    "    testInput = torch.tensor(testInput)\n",
    "    testInput = testInput.to(device)\n",
    "    predictedRatio = model(testInput) #Forward pass with testing samples\n",
    "\n",
    "    predictedRatio = [int(i[0]) for i in predictedRatio.tolist()]\n",
    "    MSError = metrics.mean_squared_error(testOutput, predictedRatio) #Get MSE of testing samples\n",
    "    print(\"Epoch \" + str(STEP) + \" MSE: \" + str(MSError) + \"\\n\")\n",
    "    TestingMSE.append(MSError)"
   ]
  },
  {
   "cell_type": "code",
   "execution_count": 171,
   "metadata": {},
   "outputs": [
    {
     "data": {
      "image/png": "[encoded data removed]",
      "text/plain": [
       "<Figure size 432x288 with 1 Axes>"
      ]
     },
     "metadata": {
      "needs_background": "light"
     },
     "output_type": "display_data"
    },
    {
     "data": {
      "image/png": "[encoded data removed]",
      "text/plain": [
       "<Figure size 432x288 with 1 Axes>"
      ]
     },
     "metadata": {
      "needs_background": "light"
     },
     "output_type": "display_data"
    },
    {
     "data": {
      "text/plain": [
       "<Figure size 432x288 with 0 Axes>"
      ]
     },
     "metadata": {},
     "output_type": "display_data"
    }
   ],
   "source": [
    "sns.lineplot(x=np.array([x for x in range(EPOCH)]), y=np.array(TrainingLoss)) #Plot training loss per epoch\n",
    "plt.title(\"Loss Per Epoch\")\n",
    "plt.xlabel(\"Epoch #\")\n",
    "plt.ylabel(\"Loss\")\n",
    "plt.show()\n",
    "plt.clf()\n",
    "\n",
    "sns.lineplot(x=np.array([x for x in range(EPOCH)]), y=np.array(TestingMSE)) #Plot MSE on testing set per epoch.\n",
    "plt.title(\"MSE Per Epoch\")\n",
    "plt.xlabel(\"Epoch #\")\n",
    "plt.ylabel(\"MSE\")\n",
    "plt.show()\n",
    "plt.clf()"
   ]
  },
  {
   "cell_type": "markdown",
   "metadata": {},
   "source": [
    "The plots above show that the model overfit to the training data. The training loss decreased to 0, while the MSE on the test set plateaued. Unsurprisingly, the neural network model predicted 0 for all test samples. Due to the small sample size, the network is unable to precisely regress the correct output value. Throwing more data at this model will likely help it generalize better since the upvote ratio is a continuous variable. "
   ]
  },
  {
   "cell_type": "code",
   "execution_count": 172,
   "metadata": {},
   "outputs": [
    {
     "data": {
      "text/html": [
       "<div>\n",
       "<style scoped>\n",
       "    .dataframe tbody tr th:only-of-type {\n",
       "        vertical-align: middle;\n",
       "    }\n",
       "\n",
       "    .dataframe tbody tr th {\n",
       "        vertical-align: top;\n",
       "    }\n",
       "\n",
       "    .dataframe thead th {\n",
       "        text-align: right;\n",
       "    }\n",
       "</style>\n",
       "<table border=\"1\" class=\"dataframe\">\n",
       "  <thead>\n",
       "    <tr style=\"text-align: right;\">\n",
       "      <th></th>\n",
       "      <th>Example</th>\n",
       "      <th>True Ratio</th>\n",
       "      <th>Predicted Ratio</th>\n",
       "    </tr>\n",
       "  </thead>\n",
       "  <tbody>\n",
       "    <tr>\n",
       "      <th>0</th>\n",
       "      <td>0</td>\n",
       "      <td>0.95</td>\n",
       "      <td>0</td>\n",
       "    </tr>\n",
       "    <tr>\n",
       "      <th>1</th>\n",
       "      <td>1</td>\n",
       "      <td>0.50</td>\n",
       "      <td>0</td>\n",
       "    </tr>\n",
       "    <tr>\n",
       "      <th>2</th>\n",
       "      <td>2</td>\n",
       "      <td>0.49</td>\n",
       "      <td>0</td>\n",
       "    </tr>\n",
       "    <tr>\n",
       "      <th>3</th>\n",
       "      <td>3</td>\n",
       "      <td>0.52</td>\n",
       "      <td>0</td>\n",
       "    </tr>\n",
       "    <tr>\n",
       "      <th>4</th>\n",
       "      <td>4</td>\n",
       "      <td>0.87</td>\n",
       "      <td>0</td>\n",
       "    </tr>\n",
       "  </tbody>\n",
       "</table>\n",
       "</div>"
      ],
      "text/plain": [
       "   Example  True Ratio  Predicted Ratio\n",
       "0        0        0.95                0\n",
       "1        1        0.50                0\n",
       "2        2        0.49                0\n",
       "3        3        0.52                0\n",
       "4        4        0.87                0"
      ]
     },
     "execution_count": 172,
     "metadata": {},
     "output_type": "execute_result"
    }
   ],
   "source": [
    "modelPerformance = []\n",
    "\n",
    "for i, output in enumerate(zip(testOutput, predictedRatio)):\n",
    "    target, prediction = output\n",
    "    modelPerformance.append({\"Example\" : i, \"True Ratio\" : target , \"Predicted Ratio\" : prediction})\n",
    "    \n",
    "modelPerformance = pd.DataFrame(modelPerformance)\n",
    "modelPerformance.head()"
   ]
  },
  {
   "cell_type": "code",
   "execution_count": 173,
   "metadata": {},
   "outputs": [],
   "source": [
    "trainInput, testInput, trainOutput, testOutput = train_test_split(inputClassificationData, outputClassificationData, test_size=0.1)\n",
    "testOutput = [i[0] for i in testOutput]\n",
    "\n",
    "class PredictRedditPost(nn.Module):\n",
    "    def __init__(self):\n",
    "        super(PredictRedditPost, self).__init__()\n",
    "        self.linearClassifier = nn.Sequential(nn.Linear(353, 64), nn.Dropout(0.5), nn.ReLU(),\n",
    "                                              nn.Linear(64, 16), nn.ReLU(),\n",
    "                                              nn.Linear(16, 1))\n",
    "        self.sigmoid = nn.Sigmoid()\n",
    "        #Same neural network architecture as above, now new and improved with a sigmoid activation function\n",
    "    def forward(self, featureVector):\n",
    "        return self.sigmoid(self.linearClassifier(featureVector))"
   ]
  },
  {
   "cell_type": "code",
   "execution_count": 174,
   "metadata": {},
   "outputs": [
    {
     "name": "stdout",
     "output_type": "stream",
     "text": [
      "Epoch 1 Loss: 0.7118885397991939\n",
      "Epoch 1 Accuracy: 0.7415730337078652\n",
      "\n",
      "Epoch 2 Loss: 0.6699189038024655\n",
      "Epoch 2 Accuracy: 0.7415730337078652\n",
      "\n",
      "Epoch 3 Loss: 0.5273262527662723\n",
      "Epoch 3 Accuracy: 0.7415730337078652\n",
      "\n",
      "Epoch 4 Loss: 0.5522850346295222\n",
      "Epoch 4 Accuracy: 0.848314606741573\n",
      "\n",
      "Epoch 5 Loss: 0.4636425507706569\n",
      "Epoch 5 Accuracy: 0.8876404494382022\n",
      "\n",
      "Epoch 6 Loss: 0.45011415637895086\n",
      "Epoch 6 Accuracy: 0.8595505617977528\n",
      "\n",
      "Epoch 7 Loss: 0.4067802755341643\n",
      "Epoch 7 Accuracy: 0.9438202247191011\n",
      "\n",
      "Epoch 8 Loss: 0.45339107194554745\n",
      "Epoch 8 Accuracy: 0.8539325842696629\n",
      "\n",
      "Epoch 9 Loss: 0.40663455717023383\n",
      "Epoch 9 Accuracy: 0.949438202247191\n",
      "\n",
      "Epoch 10 Loss: 0.35305965436353764\n",
      "Epoch 10 Accuracy: 0.9438202247191011\n",
      "\n"
     ]
    }
   ],
   "source": [
    "LR = 1e-3 #Learning Rate\n",
    "WEIGHTDECAY=0.0005 #L2 Penalty which forces smaller weights and simpler models. \n",
    "EPOCH = 10 #Number of iterations through the entire dataset\n",
    "\n",
    "device = torch.device(\"cuda:0\" if torch.cuda.is_available() else \"cpu\")\n",
    "model = PredictRedditPost()\n",
    "model.to(device)\n",
    "optimizer = optim.Adam(model.parameters(), lr=LR, weight_decay=WEIGHTDECAY)\n",
    "BCEL = nn.BCELoss() #Binary Cross Entropy Loss used for two-class classifiation tasks\n",
    "\n",
    "#Same training loop as regression case\n",
    "TestingAccuracy = []\n",
    "TrainingLoss = []\n",
    "for STEP in range(1, EPOCH + 1):\n",
    "    epochLoss = 0\n",
    "    model.train()\n",
    "    \n",
    "    for batchCount, data in enumerate(zip(trainInput, trainOutput)):\n",
    "        handCraftedFeatures, postType = data\n",
    "\n",
    "        handCraftedFeatures = torch.tensor(handCraftedFeatures) #Formatting features to play nice with PyTorch\n",
    "        postType = torch.tensor(postType)\n",
    "\n",
    "        handCraftedFeatures = handCraftedFeatures.to(device) #Send to GPU\n",
    "        postType = postType.to(device)\n",
    "\n",
    "        predictedPostType = model(handCraftedFeatures)\n",
    "\n",
    "        optimizer.zero_grad()\n",
    "        Loss = BCEL(predictedPostType, postType)\n",
    "        epochLoss = epochLoss + Loss.item()\n",
    "\n",
    "        Loss.backward()\n",
    "        optimizer.step()\n",
    "\n",
    "    print(\"Epoch \" + str(STEP) + \" Loss: \" + str(epochLoss / batchCount))\n",
    "    TrainingLoss.append(epochLoss / batchCount)\n",
    "    \n",
    "    model.eval()\n",
    "    testInput = torch.tensor(testInput)\n",
    "    testInput = testInput.to(device)\n",
    "    predictedPostType = torch.round(model(testInput))\n",
    "\n",
    "    predictedPostType = [int(i[0]) for i in predictedPostType.tolist()]\n",
    "    Accuracy = metrics.accuracy_score(testOutput, predictedPostType)\n",
    "    print(\"Epoch \"+ str(STEP) + \" Accuracy: \" + str(Accuracy) + \"\\n\")\n",
    "    TestingAccuracy.append(Accuracy)"
   ]
  },
  {
   "cell_type": "code",
   "execution_count": 175,
   "metadata": {},
   "outputs": [
    {
     "data": {
      "image/png": "[encoded data removed]",
      "text/plain": [
       "<Figure size 432x288 with 1 Axes>"
      ]
     },
     "metadata": {
      "needs_background": "light"
     },
     "output_type": "display_data"
    },
    {
     "data": {
      "image/png": "[encoded data removed]",
      "text/plain": [
       "<Figure size 432x288 with 1 Axes>"
      ]
     },
     "metadata": {
      "needs_background": "light"
     },
     "output_type": "display_data"
    },
    {
     "data": {
      "text/plain": [
       "<Figure size 432x288 with 0 Axes>"
      ]
     },
     "metadata": {},
     "output_type": "display_data"
    }
   ],
   "source": [
    "sns.lineplot(x=np.array([x for x in range(EPOCH)]), y=np.array(TrainingLoss)) #Plot training loss per epoch\n",
    "plt.title(\"Loss Per Epoch\")\n",
    "plt.xlabel(\"Epoch #\")\n",
    "plt.ylabel(\"Loss\")\n",
    "plt.show()\n",
    "plt.clf()\n",
    "\n",
    "sns.lineplot(x=np.array([x for x in range(EPOCH)]), y=np.array(TestingAccuracy)) #Plot classification accuracy per epoch\n",
    "plt.title(\"Accuracy Per Epoch\")\n",
    "plt.xlabel(\"Epoch #\")\n",
    "plt.ylabel(\"Accuracy\")\n",
    "plt.show()\n",
    "plt.clf()"
   ]
  },
  {
   "cell_type": "markdown",
   "metadata": {},
   "source": [
    "Our classification neural network is able to outperform our simple logistic regression model by a few percent. This state-of-the-art result should be published in next year's NeurIPS conference! Despite the apparent performance increase, neural networks are not interpretable. For the sake of explainability, it makes more sense to analyze the linear models. "
   ]
  },
  {
   "cell_type": "markdown",
   "metadata": {},
   "source": [
    "The key takeaway from these experiments is that although many state-of-the-art methods use neural networks and deep learning, the size of the dataset plays an important role in whether to stick with traditional machine learning based approaches, or try deep learning models. Let's try to understand our features to see what really goes into making a great post. We'll be generating a Pearson Correlation Matrix to visualize how closely different features are correlated. For more information, [read here](https://machinelearningmastery.com/how-to-use-correlation-to-understand-the-relationship-between-variables/). Here are the main takeaways:\n",
    "<ol>\n",
    "    <li>Two variables have a significant correlation if their coefficient is at least 0.5</li>\n",
    "    <li>A variable is \"important\" for our model if it has a significant correlation with our label (in our case, upvote ratio, which is \"UR\" in the last column</li>\n",
    "</ol>\n",
    "\n",
    "As an important note, the limitations of the correlation function mean that we can only use numerical variables for this heatmap. That means we'll be omitting a categorical feature, subreddit, which we already know to be significant."
   ]
  },
  {
   "cell_type": "code",
   "execution_count": 125,
   "metadata": {},
   "outputs": [
    {
     "data": {
      "image/png": "[encoded data removed]",
      "text/plain": [
       "<Figure size 1152x720 with 2 Axes>"
      ]
     },
     "metadata": {
      "needs_background": "light"
     },
     "output_type": "display_data"
    }
   ],
   "source": [
    "numericalFeatureSelection = []\n",
    "\n",
    "# Get numerical and boolean features, and abbreviate their labels\n",
    "for tableRow in dataSet.iterrows():\n",
    "    lenTitle = tableRow[1][\"len_title\"]\n",
    "    titleSentiment = tableRow[1][\"title_sentiment\"]\n",
    "    titleSubjectivity = tableRow[1][\"title_subjectivity\"]\n",
    "    titleQuestion  =tableRow[1][\"title_question\"]\n",
    "    originalContent = tableRow[1][\"is_oc\"]\n",
    "    nsfw = tableRow[1][\"is_nsfw\"]\n",
    "    spoiler = tableRow[1][\"is_spoiler\"]\n",
    "    lenBody = tableRow[1][\"len_body\"]\n",
    "    post_type = tableRow[1][\"post_type\"]\n",
    "    upvote_ratio = tableRow[1][\"upvote_ratio\"]\n",
    "\n",
    "    numericalFeatureSelection.append({\"TQ\": titleQuestion, \"LT\" : lenTitle, \"TSEN\" : titleSentiment, \"TSUB\" : titleSubjectivity,\n",
    "                                      \"OC\" : originalContent, \"NSFW\" : nsfw, \"SP\" : spoiler, \n",
    "                                      \"LB\" : lenBody, \"PT\" : post_type, \"UR\" : upvote_ratio})\n",
    "\n",
    "featureSelection = pd.DataFrame(numericalFeatureSelection)\n",
    "plt.figure(figsize=(16,10))\n",
    "pearsonCorrelation = featureSelection.corr() # Pearson's correlation coeff.\n",
    "sns.heatmap(pearsonCorrelation, annot=True, cmap=plt.cm.Reds) # Using Seaborn to generate a heatmap\n",
    "plt.show()\n",
    "    "
   ]
  },
  {
   "cell_type": "code",
   "execution_count": 128,
   "metadata": {},
   "outputs": [
    {
     "name": "stdout",
     "output_type": "stream",
     "text": [
      "{'LB': 'Length of Body',\n",
      " 'LT': 'Length of Tilte',\n",
      " 'NSFW': 'Not Safe for Work',\n",
      " 'OC': 'Original Content',\n",
      " 'PT': 'Post Type',\n",
      " 'SP': 'Spoiler',\n",
      " 'TQ': 'Title Contains Question',\n",
      " 'TSEN': 'Title Sentiment',\n",
      " 'TSUB': 'Title Subjectivity',\n",
      " 'UR': 'Upvote Ratio'}\n"
     ]
    }
   ],
   "source": [
    "#Look Up Table for Above Plot\n",
    "pprint({\"TQ\": \"Title Contains Question\",\"LT\" : \"Length of Tilte\", \"TSEN\" : \"Title Sentiment\", \"TSUB\" : \"Title Subjectivity\",\n",
    "                                      \"OC\" : \"Original Content\", \"NSFW\" : \"Not Safe for Work\", \"SP\" : \"Spoiler\", \n",
    "                                      \"LB\" : \"Length of Body\", \"PT\" : \"Post Type\", \"UR\" : \"Upvote Ratio\"})"
   ]
  },
  {
   "cell_type": "markdown",
   "metadata": {},
   "source": [
    "Throughout this tutorial, we have been trying to predict if a post will join the ranks of other top posts, or be condemned as a controversial post. The correlation matrix above shows that most numerical features of our dataset didn't actually affect the results of our linear models. Interestingly, both the length post body and the use of original content negatively correlated with both the post type (PT) and upvote ratio (UR). In order to have a hot post, make sure to always repost material and never write well-thought-out content!\n",
    "\n",
    "Using this information, we can test our logistic regression model using only len_body and is_oc to predict post_type to see if we can get the same level of performance:"
   ]
  },
  {
   "cell_type": "code",
   "execution_count": 129,
   "metadata": {},
   "outputs": [
    {
     "name": "stdout",
     "output_type": "stream",
     "text": [
      "Accuracy: 0.7303370786516854\n"
     ]
    }
   ],
   "source": [
    "inputClassificationData = []\n",
    "outputClassificationData = []\n",
    "\n",
    "for tableRow in dataSet.iterrows():\n",
    "    originalContent = tableRow[1][\"is_oc\"]\n",
    "    lenBody = tableRow[1][\"len_body\"]\n",
    "    post_type = tableRow[1][\"post_type\"]\n",
    "\n",
    "    inputClassificationData.append([lenBody, originalContent])\n",
    "    outputClassificationData.append([post_type])\n",
    "    \n",
    "trainInput, testInput, trainOutput, testOutput = train_test_split(inputClassificationData, outputClassificationData, test_size=0.1)\n",
    "ratioRegression = LogisticRegression().fit(np.array(trainInput), np.array(trainOutput))\n",
    "predictedOutput = ratioRegression.predict(np.array(testInput))\n",
    "modelPerformance = []\n",
    "\n",
    "testOutput = [i[0] for i in testOutput]\n",
    "predictedOutput = predictedOutput.tolist()\n",
    "\n",
    "Accuracy = metrics.accuracy_score(testOutput, predictedOutput)\n",
    "print(\"Accuracy: \" + str(Accuracy))"
   ]
  },
  {
   "cell_type": "markdown",
   "metadata": {},
   "source": [
    "Although our logistic regression predictor is able to acheive \"better than random\" accuracy, the performance is still much lower than when we included other features. A noteable feature that we are missing is the subreddit itself. "
   ]
  },
  {
   "cell_type": "code",
   "execution_count": 130,
   "metadata": {},
   "outputs": [
    {
     "name": "stdout",
     "output_type": "stream",
     "text": [
      "Accuracy: 0.9101123595505618\n"
     ]
    }
   ],
   "source": [
    "inputClassificationData = []\n",
    "outputClassificationData = []\n",
    "\n",
    "for tableRow in dataSet.iterrows():\n",
    "    subReddit = tableRow[1][\"subreddit\"]\n",
    "    SR_oneHotEncoding = subRedditOneHotEncoding[\"subReddit_\" + subReddit].to_list()\n",
    "    originalContent = tableRow[1][\"is_oc\"]\n",
    "    lenBody = tableRow[1][\"len_body\"]\n",
    "    post_type = tableRow[1][\"post_type\"]\n",
    "\n",
    "    inputClassificationData.append(SR_oneHotEncoding + [lenBody, originalContent])\n",
    "    outputClassificationData.append([post_type])\n",
    "    \n",
    "trainInput, testInput, trainOutput, testOutput = train_test_split(inputClassificationData, outputClassificationData, test_size=0.1)\n",
    "ratioRegression = LogisticRegression().fit(np.array(trainInput), np.array(trainOutput))\n",
    "predictedOutput = ratioRegression.predict(np.array(testInput))\n",
    "modelPerformance = []\n",
    "\n",
    "testOutput = [i[0] for i in testOutput]\n",
    "predictedOutput = predictedOutput.tolist()\n",
    "\n",
    "Accuracy = metrics.accuracy_score(testOutput, predictedOutput)\n",
    "print(\"Accuracy: \" + str(Accuracy))"
   ]
  },
  {
   "cell_type": "markdown",
   "metadata": {},
   "source": [
    "With the subreddit included, our accuracy jumps from 73% to 91%! As suspected, the subreddit that you post in significantly impacts the likelihood of going viral on Reddit."
   ]
  },
  {
   "cell_type": "markdown",
   "metadata": {},
   "source": [
    "<h2 style=\"text-align: center;\">Conclusion</h2>"
   ]
  },
  {
   "cell_type": "markdown",
   "metadata": {},
   "source": [
    "To review, we scraped thousands of Reddit's best and worst posts, processed their features, performed some exploratory subreddit analysis, and attempted to predict a new post's performance with four different machine learning models. In the end, we have a working logistic regression model that can predict whether a post is more likely to be \"top\" or \n",
    "\"controversial\" with over 90% accuracy! If you'd like to make your own viral Reddit post, here are some of our suggestions:\n",
    "<ol>\n",
    "    <li>Be persistent. Reddit has over 20 thousand daily submissions across all subreddits; it may take a few posts before people catch on to your content.</li>\n",
    "    <li>Post on a large, generic-topic subreddit. The ones that most frequently broke the top 1000 posts were r/pics, r/aww, r/funny, r/gifs, and r/gaming.</li>\n",
    "    <li>Post a link to an image or a video instead of original content. Posts with text had a significant negative correlation with upvote_ratio.</li>\n",
    "</ol>\n",
    "If you're interested in Reddit, there's so much data left to explore; the site hosts over 50 thousand subreddits and over 330 million users, so we've only touched on a small subset of the data that the site generates. Even if you're not interested, we hope this tutorial gave you some insight into how a hugely popular social news site chooses its favorite (and least favorite) posts. All in all, you're ready to go viral, and we hope it was worth the read!"
   ]
  }
 ],
 "metadata": {
  "kernelspec": {
   "display_name": "Python 3",
   "language": "python",
   "name": "python3"
  },
  "language_info": {
   "codemirror_mode": {
    "name": "ipython",
    "version": 3
   },
   "file_extension": ".py",
   "mimetype": "text/x-python",
   "name": "python",
   "nbconvert_exporter": "python",
   "pygments_lexer": "ipython3",
   "version": "3.7.3"
  }
 },
 "nbformat": 4,
 "nbformat_minor": 2
}
